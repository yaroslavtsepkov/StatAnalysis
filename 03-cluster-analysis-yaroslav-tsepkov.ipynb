{
 "metadata": {
  "language_info": {
   "codemirror_mode": {
    "name": "ipython",
    "version": 3
   },
   "file_extension": ".py",
   "mimetype": "text/x-python",
   "name": "python",
   "nbconvert_exporter": "python",
   "pygments_lexer": "ipython3",
   "version": "3.8.5-final"
  },
  "orig_nbformat": 2,
  "kernelspec": {
   "name": "python3",
   "display_name": "Python 3.8.5 64-bit ('base': conda)",
   "metadata": {
    "interpreter": {
     "hash": "b473de2061af7b631e395c337f4e7195db1324f9898b82bd0bcbbfeb0c408a9a"
    }
   }
  }
 },
 "nbformat": 4,
 "nbformat_minor": 2,
 "cells": [
  {
   "cell_type": "code",
   "execution_count": 3,
   "metadata": {},
   "outputs": [],
   "source": [
    "import numpy as np\n",
    "from sklearn.cluster import KMeans"
   ]
  },
  {
   "cell_type": "code",
   "execution_count": 2,
   "metadata": {},
   "outputs": [],
   "source": [
    "n1, n2 = 100, 50\n",
    "a1, a2 = np.array([-1, 1]), np.array([-4,-4])\n",
    "r1, r2 = np.array([[2, 1], [1, 1]]), np.array([[2,-1],[-1, 1]])\n",
    "df1, df2 = np.random.multivariate_normal(a1, r1, n1),\\\n",
    "    np.random.multivariate_normal(a2, r2, n2) "
   ]
  },
  {
   "cell_type": "code",
   "execution_count": null,
   "metadata": {},
   "outputs": [],
   "source": [
    "clstr = KMeans()\n",
    "clstr"
   ]
  }
 ]
}